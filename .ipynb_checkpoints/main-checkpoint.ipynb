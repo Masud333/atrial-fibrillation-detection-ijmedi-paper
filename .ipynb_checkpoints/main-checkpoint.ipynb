{
 "cells": [
  {
   "cell_type": "code",
   "execution_count": 4,
   "metadata": {},
   "outputs": [],
   "source": [
    "import wfdb\n",
    "import os\n",
    "import glob\n",
    "import numpy as np\n",
    "import pandas as pd\n",
    "import matplotlib.pyplot as plt\n",
    "from sklearn.model_selection import LeaveOneGroupOut\n",
    "from scipy.stats import median_abs_deviation\n",
    "\n",
    "from sklearn.linear_model import LogisticRegression\n",
    "from sklearn.ensemble import StackingClassifier\n",
    "from xgboost import XGBClassifier\n",
    "from sklearn.ensemble import AdaBoostClassifier\n",
    "from sklearn.model_selection import train_test_split\n",
    "\n",
    "from sklearn.pipeline import Pipeline\n",
    "from sklearn.preprocessing import StandardScaler\n",
    "from sklearn.svm import SVC\n",
    "from sklearn import tree\n",
    "from sklearn.ensemble import RandomForestClassifier\n",
    "from sklearn.metrics import classification_report\n",
    "from sklearn.svm import LinearSVC\n",
    "from sklearn.calibration import CalibratedClassifierCV\n",
    "from sklearn.metrics import confusion_matrix"
   ]
  },
  {
   "cell_type": "markdown",
   "metadata": {},
   "source": [
    "### Importing AFDB"
   ]
  },
  {
   "cell_type": "code",
   "execution_count": 5,
   "metadata": {},
   "outputs": [],
   "source": [
    "records = []\n",
    "properties = []\n",
    "annot = []\n",
    "AnnSymb = []\n",
    "AnnSamp = []\n",
    "AnnRhythm = []\n",
    "Rpeak_Samp = []\n",
    "Rpeak_Symb = []\n",
    "\n",
    "\n",
    "for f in glob.glob('/data/afdb/*.dat'): ##### change the path to own directory.       \n",
    "                                        ##### The rest should remin the same\n",
    "\n",
    "    sig, fields = wfdb.rdsamp(f[:-4], channels=[1])  #### In this function, pass \n",
    "                                                     #### \"channels=[0]\" or \"channels=[1]\" to select channel 1 or 2.\n",
    "    ann = wfdb.rdann(f[:-4], 'atr')\n",
    "    QRS = wfdb.rdann(f[:-4], 'qrs')\n",
    "    Symb = pd.Series(ann.symbol)\n",
    "    Samp = pd.Series(ann.sample)\n",
    "    QRS_Symb = pd.Series(QRS.symbol)\n",
    "    QRS_Samp = pd.Series(QRS.sample)\n",
    "    Rhythm = pd.Series(ann.aux_note)\n",
    "    records.append(sig)\n",
    "    properties.append(fields)\n",
    "    annot.append(ann)\n",
    "    AnnSymb.append(Symb)\n",
    "    AnnSamp.append(Samp)\n",
    "    Rpeak_Symb.append(QRS_Symb)\n",
    "    Rpeak_Samp.append(QRS_Samp)\n",
    "    AnnRhythm.append(Rhythm)\n",
    "    \n",
    "AnnSymb = pd.Series(AnnSymb).values\n",
    "AnnSamp = pd.Series(AnnSamp).values"
   ]
  },
  {
   "cell_type": "markdown",
   "metadata": {},
   "source": [
    "### Preprocessing AFDB dataset"
   ]
  },
  {
   "cell_type": "code",
   "execution_count": 8,
   "metadata": {
    "scrolled": false
   },
   "outputs": [],
   "source": [
    "labeled_Rpeaks = []\n",
    "appended_data = []\n",
    "k=1\n",
    "for i in range(23): ## 23 records\n",
    "    for j in range(len(AnnSamp[i])-1): ## AnnSamp or AnnRhythm -- both same dimensions\n",
    "        df = pd.DataFrame(Rpeak_Samp[i][(Rpeak_Samp[i] > AnnSamp[i][j]) & (Rpeak_Samp[i] < AnnSamp[i][j+1])])\n",
    "        df['Label'] = AnnRhythm[i][j]\n",
    "        df['ids'] = k\n",
    "        appended_data.append(df)\n",
    "    k+=1    \n",
    "\n",
    "labeled_Rpeaks = pd.concat(appended_data)\n",
    "\n",
    "labeled_Rpeaks_N_AFIB = labeled_Rpeaks.loc[(labeled_Rpeaks.Label == '(N') | (labeled_Rpeaks.Label == '(AFIB'), :]\n",
    "labeled_Rpeaks_N_AFIB['Label'] = labeled_Rpeaks_N_AFIB['Label'].map({'(N':False ,'(AFIB':True})\n",
    "labeled_Rpeaks_N_AFIB['Label'] = labeled_Rpeaks_N_AFIB['Label'].astype(int)\n",
    "labeled_Rpeaks_N_AFIB.rename(columns={0: 'Rpeaks'},inplace=True, errors='raise')"
   ]
  },
  {
   "cell_type": "markdown",
   "metadata": {},
   "source": [
    "### Inter-patient approach on AFDB using LOGO-CV"
   ]
  },
  {
   "cell_type": "code",
   "execution_count": 1,
   "metadata": {
    "scrolled": true
   },
   "outputs": [],
   "source": [
    "def segmenting_record(seg_value, data):\n",
    "    rri2 = np.diff(data) ### Storing the intervals between rpeaks\n",
    "    rri2 = np.array(rri2, dtype=np.float64) ### Ensuring no overflow issues happens, when calculating in for loop later\n",
    "\n",
    "    amount = -(len(rri2) % seg_value) # amount of data points to remove, for equal length segments with no residue points\n",
    "    print(f\"Amount to remove {amount-1}\")\n",
    "    \n",
    "    if amount == 0:\n",
    "        rec_amount = rri2\n",
    "    else:\n",
    "        rec_amount = rri2[:amount]\n",
    "    seg_shape = len(rec_amount) // seg_value # amount of total segments (given the specified segment length) \n",
    "    print(f\"Shape 0: {seg_shape}\")\n",
    "    \n",
    "    segmented_rec = rec_amount.reshape(seg_shape,seg_value) \n",
    "    return segmented_rec, amount-1, seg_shape\n",
    "\n",
    "logo = LeaveOneGroupOut()\n",
    "ids = labeled_Rpeaks_N_AFIB.loc[:, 'ids']\n",
    "logo.get_n_splits(groups=ids)\n",
    "\n",
    "labeled_Rpeaks_N_AFIB.reset_index(drop=True, inplace=True)\n",
    "\n",
    "Rpeaks_N_AFIB = labeled_Rpeaks_N_AFIB[\"Rpeaks\"]\n",
    "Label_N_AFIB = labeled_Rpeaks_N_AFIB[\"Label\"]\n",
    "Label_N_AFIB = np.array(Label_N_AFIB, dtype=np.float64)\n",
    "\n",
    "seg_len = 20\n",
    "y_pred_svm_all_ts = []\n",
    "y_pred_dt_all_ts = []\n",
    "y_pred_rf_all_ts = []\n",
    "y_pred_stacking_all_ts = []\n",
    "y_pred_xgboost_all_ts = []\n",
    "y_pred_adaboost_all_ts = []\n",
    "y_score_svm_all_ts = []\n",
    "y_score_dt_all_ts = []\n",
    "y_score_rf_all_ts = []\n",
    "y_score_stacking_all_ts = []\n",
    "y_score_xgboost_all_ts = []\n",
    "y_score_adaboost_all_ts = []\n",
    "y_prob_svm_all_ts = []\n",
    "y_prob_dt_all_ts = []\n",
    "y_prob_rf_all_ts = []\n",
    "y_prob_stacking_all_ts = []\n",
    "y_prob_xgboost_all_ts = []\n",
    "y_prob_adaboost_all_ts = []\n",
    "\n",
    "y_pred_svm_all_tr = []\n",
    "y_pred_dt_all_tr = []\n",
    "y_pred_rf_all_tr = []\n",
    "y_pred_stacking_all_tr = []\n",
    "y_pred_xgboost_all_tr = []\n",
    "y_pred_adaboost_all_tr = []\n",
    "y_score_svm_all_tr = []\n",
    "y_score_dt_all_tr = []\n",
    "y_score_rf_all_tr = []\n",
    "y_score_stacking_all_tr = []\n",
    "y_score_xgboost_all_tr = []\n",
    "y_score_adaboost_all_tr = []\n",
    "y_prob_svm_all_tr = []\n",
    "y_prob_dt_all_tr = []\n",
    "y_prob_rf_all_tr = []\n",
    "y_prob_stacking_all_tr = []\n",
    "y_prob_xgboost_all_tr = []\n",
    "y_prob_adaboost_all_tr = []\n",
    "\n",
    "y_train_all = []\n",
    "y_test_all = []\n",
    "\n",
    "y_tr_all = []\n",
    "y_ts_all = []\n",
    "\n",
    "\n",
    "for train_index, test_index in logo.split(Rpeaks_N_AFIB, Label_N_AFIB, ids):\n",
    "    print(train_index)\n",
    "    print('################################')\n",
    "    print(test_index)\n",
    "    \n",
    "    X_train, X_test = Rpeaks_N_AFIB[train_index], Rpeaks_N_AFIB[test_index]\n",
    "    y_train, y_test = Label_N_AFIB[train_index], Label_N_AFIB[test_index]\n",
    "\n",
    "    y_train_all.append(y_train)\n",
    "    y_test_all.append(y_test)\n",
    "\n",
    "    ###################### Train AFDB ###################################\n",
    "\n",
    "    print(X_train.shape)\n",
    "    print(X_train)\n",
    "\n",
    "    segmented_record_tr, amount_tr, seg_shape_tr = segmenting_record(seg_len, X_train)\n",
    "\n",
    "\n",
    "    print(segmented_record_tr.shape)\n",
    "    print(segmented_record_tr)\n",
    "\n",
    "    %run \"features_utils.ipynb\"\n",
    "    print('2')\n",
    "    all_features_tr = []\n",
    "\n",
    "    ### Calculating all_features for every single segmented \"block\" inside the segmented_record variable\n",
    "    for x in range(len(segmented_record_tr)):\n",
    "\n",
    "        #MEAN\n",
    "        ff1_tr = np.nanmean(segmented_record_tr[x]) ### nanmean, nanstd computes values while ignoring nan-values\n",
    "        #STD\n",
    "        ff2_tr = np.nanstd(segmented_record_tr[x])\n",
    "        #RMSSD\n",
    "        sum_tr = 0\n",
    "        for y in range(len(segmented_record_tr[x]) - 1): ### loops 19 times for segment=20\n",
    "            sum_tr += (segmented_record_tr[x][y] - segmented_record_tr[x][y+1])**2\n",
    "        sum_multiplied_tr = 1/(len(segmented_record_tr) - 1) * sum_tr\n",
    "        ff3_tr = np.sqrt(sum_multiplied_tr)\n",
    "        #NORMALIZED RMSSD\n",
    "        ff4_tr = (ff3_tr / ff1_tr)\n",
    "        #SHANNON ENTROPY\n",
    "        ff5_tr = entropy(segmented_record_tr[x])\n",
    "        #MEAN ABSOLUTE DEVIATION\n",
    "        ff6_tr = mean_abs_deviation(segmented_record_tr[x])\n",
    "        #MEDIAN ABSOLUTE DEVIATION\n",
    "        ff7_tr = median_abs_deviation(segmented_record_tr[x], 1)\n",
    "\n",
    "        my_all_features_tr = pd.Series([np.around(ff1_tr,3), np.around(ff2_tr,3), np.around(ff3_tr,3), np.around(ff4_tr,3),\n",
    "                                        np.around(ff5_tr,3), np.around(ff6_tr,3), np.around(ff7_tr,3)],\n",
    "                                index=['Mean','STD','RMSSD','Normalized RMSSD','Shannon Entropy',\n",
    "                                       'Mean absolute deviation','Median absolute deiviation'])\n",
    "        all_features_tr.append(my_all_features_tr)\n",
    "\n",
    "    y_amount_tr = y_train[:amount_tr] \n",
    "    y_shape_tr = y_amount_tr.reshape(seg_shape_tr, seg_len) \n",
    "\n",
    "    y_list_tr = []\n",
    "\n",
    "    ### Calc if every 20 segment block is Normal synus rythm or AFIB\n",
    "    for l in range(len(y_shape_tr)):\n",
    "        #y_segment = y_shape\n",
    "        sum_segment_tr = np.sum(y_shape_tr[l])\n",
    "        if sum_segment_tr >= int(seg_len/2): \n",
    "            sum_segment_tr = 1\n",
    "        else: sum_segment_tr = 0\n",
    "        y_list_tr.append(sum_segment_tr)\n",
    "\n",
    "    y_list_tr = np.array(y_list_tr, dtype=np.float64)\n",
    "    print(f\"Length: {len(y_list_tr)}, Type: {y_list_tr.dtype}\")\n",
    "\n",
    "\n",
    "    ##### Chosen params after hyperparameters tuning using GridsearchCV \n",
    "\n",
    "    pipeline_svm = Pipeline([('scalar1', StandardScaler()),\n",
    "                             ('svm_classifier', SVC(gamma=\"scale\", C=20, kernel='rbf', probability=True))])\n",
    "\n",
    "    pipeline_dt = Pipeline([('scalar2', StandardScaler()),\n",
    "                            ('dt_classifier', tree.DecisionTreeClassifier(criterion='entropy', max_depth=12))])\n",
    "\n",
    "    pipeline_rf = Pipeline([('scalar 4', StandardScaler()),\n",
    "                             ('rf_classifier', RandomForestClassifier(n_estimators=200))])\n",
    "    xgb_model = XGBClassifier(use_label_encoder=False)\n",
    "\n",
    "    adaBoost_clf = AdaBoostClassifier() \n",
    "\n",
    "    estimators = [('svm',pipeline_svm), ('dt',pipeline_dt), ('rf',pipeline_rf)]#, ('adaboost', adaBoost_clf), ('xgboost', xgb_model)]\n",
    "    clf = StackingClassifier(estimators=estimators, final_estimator=LogisticRegression(), stack_method='predict')\n",
    "\n",
    "    y_tr = np.asarray(y_list_tr)\n",
    "    print(f\"shape of y: {np.shape(y_tr)}, type of y: {type(y_tr)}\")\n",
    "    X_tr = np.asarray(all_features_tr)\n",
    "    print(f\"shape of X: {np.shape(X_tr)}, type of X: {type(X_tr)}\")\n",
    "\n",
    "    y_tr_all.append(y_tr)\n",
    "\n",
    "    pipeline_svm.fit(X_tr, y_tr)\n",
    "    pipeline_dt.fit(X_tr, y_tr)\n",
    "    pipeline_rf.fit(X_tr, y_tr)\n",
    "    clf.fit(X_tr, y_tr)\n",
    "    xgb_model.fit(X_tr, y_tr)\n",
    "    adaBoost_clf.fit(X_tr, y_tr)\n",
    "    \n",
    "    y_pred_svm_tr = pipeline_svm.predict(X_tr)\n",
    "    y_pred_dt_tr = pipeline_dt.predict(X_tr)\n",
    "    y_pred_rf_tr = pipeline_rf.predict(X_tr)\n",
    "    y_pred_stacking_tr = clf.predict(X_tr)\n",
    "    y_pred_xgboost_tr = xgb_model.predict(X_tr)\n",
    "    y_pred_adaboost_tr = adaBoost_clf.predict(X_tr)\n",
    "    \n",
    "    y_prob_svm_tr = pipeline_svm.predict_proba(X_tr)\n",
    "    y_prob_dt_tr = pipeline_dt.predict_proba(X_tr)\n",
    "    y_prob_rf_tr = pipeline_rf.predict_proba(X_tr)\n",
    "    y_prob_stacking_tr = clf.predict_proba(X_tr)\n",
    "    y_prob_xgboost_tr = xgb_model.predict_proba(X_tr)\n",
    "    y_prob_adaboost_tr = adaBoost_clf.predict_proba(X_tr)\n",
    "\n",
    "    y_pred_svm_all_tr.append(y_pred_svm_tr)\n",
    "    y_pred_dt_all_tr.append(y_pred_dt_tr)\n",
    "    y_pred_rf_all_tr.append(y_pred_rf_tr)\n",
    "    y_pred_stacking_all_tr.append(y_pred_stacking_tr)\n",
    "    y_pred_xgboost_all_tr.append(y_pred_xgboost_tr)\n",
    "    y_pred_adaboost_all_tr.append(y_pred_adaboost_tr)\n",
    "    \n",
    "    y_prob_svm_all_tr.append(y_pred_svm_tr)\n",
    "    y_prob_dt_all_tr.append(y_pred_dt_tr)\n",
    "    y_prob_rf_all_tr.append(y_pred_rf_tr)\n",
    "    y_prob_stacking_all_tr.append(y_pred_stacking_tr)\n",
    "    y_prob_xgboost_all_tr.append(y_pred_xgboost_tr)\n",
    "    y_prob_adaboost_all_tr.append(y_pred_adaboost_tr)\n",
    "\n",
    "    ###################### Test AFDB ###################################\n",
    "\n",
    "    segmented_record_ts, amount_ts, seg_shape_ts = segmenting_record(seg_len, X_test)\n",
    "\n",
    "    print('test')\n",
    "    print(segmented_record_ts.shape)\n",
    "    print(segmented_record_ts)\n",
    "\n",
    "    %run \"features_utils.ipynb\"\n",
    "\n",
    "    all_features_ts = []\n",
    "\n",
    "    ### Calculating all_features for every single segmented \"block\" inside the segmented_record variable\n",
    "    for x in range(len(segmented_record_ts)):\n",
    "\n",
    "        #MEAN\n",
    "        ff1_ts = np.nanmean(segmented_record_ts[x]) ### nanmean, nanstd computes values while ignoring nan-values\n",
    "        #STD\n",
    "        ff2_ts = np.nanstd(segmented_record_ts[x])\n",
    "        #RMSSD\n",
    "        sum_ts = 0\n",
    "        for y in range(len(segmented_record_ts[x]) - 1): ### loops 19 times for segment=20\n",
    "            sum_ts += (segmented_record_ts[x][y] - segmented_record_ts[x][y+1])**2\n",
    "        sum_multiplied_ts = 1/(len(segmented_record_ts) - 1) * sum_ts\n",
    "        ff3_ts = np.sqrt(sum_multiplied_ts)\n",
    "        #NORMALIZED RMSSD\n",
    "        ff4_ts = (ff3_ts / ff1_ts)\n",
    "        #SHANNON ENTROPY\n",
    "        ff5_ts = entropy(segmented_record_ts[x])\n",
    "        #MEAN ABSOLUTE DEVIATION\n",
    "        ff6_ts = mean_abs_deviation(segmented_record_ts[x])\n",
    "        #MEDIAN ABSOLUTE DEVIATION\n",
    "        ff7_ts = median_abs_deviation(segmented_record_ts[x], 1)\n",
    "  \n",
    "        my_all_features_ts = pd.Series([np.around(ff1_ts, 3), np.around(ff2_ts, 3), np.around(ff3_ts,3), np.around(ff4_ts,  3),\n",
    "                                        np.around(ff5_ts, 3), np.around(ff6_ts, 3), np.around(ff7_ts, 3)],\n",
    "                                index=['Mean','STD','RMSSD','Normalized RMSSD','Shannon Entropy',\n",
    "                                       'Mean absolute deviation','Median absolute deiviation'])\n",
    "        all_features_ts.append(my_all_features_ts)\n",
    "\n",
    "\n",
    "    y_amount_ts = y_test[:amount_ts] \n",
    "    y_shape_ts = y_amount_ts.reshape(seg_shape_ts, seg_len) \n",
    "\n",
    "    y_list_ts = []\n",
    "\n",
    "    ### Calc if every 20 segment block is Normal synus rythm or AFIB\n",
    "    for l in range(len(y_shape_ts)):\n",
    "        #y_segment = y_shape\n",
    "        sum_segment_ts = np.sum(y_shape_ts[l])\n",
    "        if sum_segment_ts >= int(seg_len/2): \n",
    "            sum_segment_ts = 1\n",
    "        else: sum_segment_ts = 0\n",
    "        y_list_ts.append(sum_segment_ts)\n",
    "\n",
    "    y_list_ts = np.array(y_list_ts, dtype=np.float64)\n",
    "    print(f\"Length: {len(y_list_ts)}, Type: {y_list_ts.dtype}\")\n",
    "\n",
    "    y_ts = np.asarray(y_list_ts)\n",
    "    print(f\"shape of y: {np.shape(y_ts)}, type of y: {type(y_ts)}\")\n",
    "    X_ts = np.asarray(all_features_ts)\n",
    "    print(f\"shape of X: {np.shape(X_ts)}, type of X: {type(X_ts)}\")\n",
    "\n",
    "    y_ts_all.append(y_ts)\n",
    "\n",
    "    y_pred_svm_ts = pipeline_svm.predict(X_ts)\n",
    "    y_pred_dt_ts = pipeline_dt.predict(X_ts)\n",
    "    y_pred_rf_ts = pipeline_rf.predict(X_ts)\n",
    "    y_pred_stacking_ts = clf.predict(X_ts)\n",
    "    y_pred_xgboost_ts = xgb_model.predict(X_ts)\n",
    "    y_pred_adaboost_ts = adaBoost_clf.predict(X_ts)\n",
    "    \n",
    "    y_score_svm_ts = pipeline_svm.predict_proba(X_ts)\n",
    "    y_score_dt_ts = pipeline_dt.predict_proba(X_ts)\n",
    "    y_score_rf_ts = pipeline_rf.predict_proba(X_ts)\n",
    "    y_score_stacking_ts = clf.predict_proba(X_ts)\n",
    "    y_score_xgboost_ts = xgb_model.predict_proba(X_ts)\n",
    "    y_score_adaboost_ts = adaBoost_clf.predict_proba(X_ts)\n",
    "\n",
    "    y_pred_svm_all_ts.append(y_pred_svm_ts)\n",
    "    y_pred_dt_all_ts.append(y_pred_dt_ts)\n",
    "    y_pred_rf_all_ts.append(y_pred_rf_ts)\n",
    "    y_pred_stacking_all_ts.append(y_pred_stacking_ts)\n",
    "    y_pred_xgboost_all_ts.append(y_pred_xgboost_ts)\n",
    "    y_pred_adaboost_all_ts.append(y_pred_adaboost_ts)\n",
    "    \n",
    "    y_score_svm_all_ts.append(y_pred_svm_ts)\n",
    "    y_score_dt_all_ts.append(y_pred_dt_ts)\n",
    "    y_score_rf_all_ts.append(y_pred_rf_ts)\n",
    "    y_score_stacking_all_ts.append(y_pred_stacking_ts)\n",
    "    y_score_xgboost_all_ts.append(y_pred_xgboost_ts)\n",
    "    y_score_adaboost_all_ts.append(y_pred_adaboost_ts)"
   ]
  },
  {
   "cell_type": "markdown",
   "metadata": {},
   "source": [
    "### Averaging the performance metrics"
   ]
  },
  {
   "cell_type": "code",
   "execution_count": 2,
   "metadata": {},
   "outputs": [],
   "source": [
    "from sklearn.metrics import accuracy_score\n",
    "acc_avg = []\n",
    "for i in range(len(y_ts_all)):\n",
    "    acc_all = accuracy_score(y_ts_all[i], y_pred_adaboost_all_ts[i])\n",
    "    acc_avg.append(acc_all)\n",
    "print(np.mean(np.array(acc_avg)))\n",
    "print(np.std(np.array(acc_avg)))"
   ]
  },
  {
   "cell_type": "code",
   "execution_count": 3,
   "metadata": {},
   "outputs": [],
   "source": [
    "from sklearn.metrics import f1_score\n",
    "f1_avg = []\n",
    "for i in range(len(y_ts_all)):\n",
    "    f1_all = f1_score(y_ts_all[i], y_pred_adaboost_all_ts[i], average='weighted')\n",
    "    f1_avg.append(f1_all)\n",
    "print(np.mean(np.array(f1_avg)))\n",
    "print(np.std(np.array(f1_avg)))"
   ]
  },
  {
   "cell_type": "code",
   "execution_count": 4,
   "metadata": {},
   "outputs": [],
   "source": [
    "from sklearn.metrics import confusion_matrix\n",
    "fpr_all = []\n",
    "for i in range(len(y_ts_all)):\n",
    "    cm_all = confusion_matrix(y_ts_all[i], y_pred_adaboost_all_ts[i])\n",
    "    fpr_cm = cm_all[0][1]/(cm_all[0][1]+cm_all[0][0])\n",
    "    fpr_all.append(fpr_cm)\n",
    "print(np.mean(np.array(fpr_all)))\n",
    "print(np.std(np.array(fpr_all)))"
   ]
  },
  {
   "cell_type": "code",
   "execution_count": 5,
   "metadata": {},
   "outputs": [],
   "source": [
    "from sklearn.metrics import precision_score\n",
    "prec_avg = []\n",
    "for i in range(len(y_ts_all)):\n",
    "    prec_all = precision_score(y_ts_all[i], y_pred_adaboost_all_ts[i], average='weighted')\n",
    "    prec_avg.append(prec_all)\n",
    "print(np.mean(np.array(prec_avg)))\n",
    "print(np.std(np.array(prec_avg)))"
   ]
  },
  {
   "cell_type": "code",
   "execution_count": 6,
   "metadata": {},
   "outputs": [],
   "source": [
    "spec_all = []\n",
    "for i in range(len(y_ts_all)):\n",
    "    cm_all = confusion_matrix(y_ts_all[i], y_pred_adaboost_all_ts[i])\n",
    "    spec_cm = cm_all[0][0]/(cm_all[0][1]+cm_all[0][0])*100\n",
    "    spec_all.append(spec_cm)\n",
    "print(np.mean(np.array(spec_all)))\n",
    "print(np.std(np.array(spec_all)))"
   ]
  },
  {
   "cell_type": "code",
   "execution_count": 7,
   "metadata": {},
   "outputs": [],
   "source": [
    "from sklearn.metrics import recall_score\n",
    "sens_avg = []\n",
    "for i in range(len(y_ts_all)):\n",
    "    sens_all = recall_score(y_ts_all[i], y_pred_adaboost_all_ts[i], average='weighted')\n",
    "    sens_avg.append(sens_all)\n",
    "print(np.mean(np.array(sens_avg)))\n",
    "print(np.std(np.array(sens_avg)))"
   ]
  },
  {
   "cell_type": "markdown",
   "metadata": {},
   "source": [
    "### ECG records segmentation"
   ]
  },
  {
   "cell_type": "code",
   "execution_count": 15,
   "metadata": {
    "scrolled": true
   },
   "outputs": [],
   "source": [
    "def segmenting_record(seg_value):\n",
    "    rri2 = np.diff(Rpeaks_N_AFIB) ### Storing the intervals between rpeaks\n",
    "    rri2 = np.array(rri2, dtype=np.float64) ### Ensuring no overflow issues happens, when calculating in for loop later\n",
    "\n",
    "    amount = -(len(rri2) % seg_value) # amount of data points to remove, for equal length segments with no residue points\n",
    "    print(f\"Amount to remove {amount-1}\")\n",
    "    \n",
    "    rec_amount = rri2[:amount]\n",
    "    seg_shape = len(rec_amount) // seg_value # amount of total segments (given the specified segment length) \n",
    "    print(f\"Shape 0: {seg_shape}\")\n",
    "    \n",
    "    segmented_rec = rec_amount.reshape(seg_shape,seg_value) \n",
    "    return segmented_rec, amount, seg_shape"
   ]
  },
  {
   "cell_type": "markdown",
   "metadata": {},
   "source": [
    "### Extracting and segmenting the input features"
   ]
  },
  {
   "cell_type": "code",
   "execution_count": 21,
   "metadata": {},
   "outputs": [],
   "source": [
    "### Loads in functions for Shannon Entropy, Mean absolute deviation calculations\n",
    "%run \"features_utils.ipynb\"\n",
    "from scipy.stats import median_abs_deviation"
   ]
  },
  {
   "cell_type": "code",
   "execution_count": 22,
   "metadata": {},
   "outputs": [],
   "source": [
    "seg_len = 20 # Specify the segment length (0, 20, or 60 hearbeats)\n",
    "segmented_record, amount, seg_shape = segmenting_record(60)\n",
    "\n",
    "all_features = []\n",
    "\n",
    "### Calculating all_features for every single segmented \"block\" inside the segmented_record variable\n",
    "for x in range(len(segmented_record)):\n",
    "    \n",
    "    #MEAN\n",
    "    ff1 = np.nanmean(segmented_record[x]) ### nanmean, nanstd computes values while ignoring nan-values\n",
    "    #STD\n",
    "    ff2 = np.nanstd(segmented_record[x])\n",
    "    #RMSSD\n",
    "    sum_ = 0\n",
    "    for y in range(len(segmented_record[x]) - 1): ### loops 19 times for segment=20\n",
    "        sum_ += (segmented_record[x][y] - segmented_record[x][y+1])**2\n",
    "    sum_multiplied = 1/(len(segmented_record) - 1) * sum_\n",
    "    ff3 = np.sqrt(sum_multiplied)\n",
    "    #NORMALIZED RMSSD\n",
    "    ff4 = (ff3 / ff1)\n",
    "    #SHANNON ENTROPY\n",
    "    ff5 = entropy(segmented_record[x])\n",
    "    #MEAN ABSOLUTE DEVIATION\n",
    "    ff6 = mean_abs_deviation(segmented_record[x])\n",
    "    #MEDIAN ABSOLUTE DEVIATION\n",
    "    ff7 = median_abs_deviation(segmented_record[x])\n",
    "\n",
    "    my_all_features = pd.Series([np.around(ff1,3), np.around(ff2, 3), np.around(ff3, 3), np.around(ff4, 3), np.around(ff5, 3), \n",
    "                             np.around(ff6, 3), np.around(ff7, 3)],\n",
    "                            index=['Mean','STD','RMSSD','Normalized RMSSD','Shannon Entropy',\n",
    "                                   'Mean absolute deviation','Median absolute deiviation'])\n",
    "    all_features.append(my_all_features)"
   ]
  },
  {
   "cell_type": "markdown",
   "metadata": {},
   "source": [
    "### Preprocess the rhythms' labels/targets"
   ]
  },
  {
   "cell_type": "code",
   "execution_count": 9,
   "metadata": {},
   "outputs": [],
   "source": [
    "y_amount = Label_N_AFIB[:amount-1] \n",
    "y_shape = y_amount.reshape(seg_shape, seg_len) \n",
    "\n",
    "y_list = []\n",
    "\n",
    "### Calc if every 20 segment block is Normal synus rythm or AFIB\n",
    "for l in range(len(y_shape)):\n",
    "    #y_segment = y_shape\n",
    "    sum_segment = np.sum(y_shape[l])\n",
    "    if sum_segment >= int(seg_len/2):\n",
    "        sum_segment = 1\n",
    "    else: sum_segment = 0\n",
    "    y_list.append(sum_segment)\n",
    "\n",
    "y_list = np.array(y_list, dtype=np.float64)\n",
    "print(f\"Length: {len(y_list)}, Type: {y_list.dtype}\")"
   ]
  },
  {
   "cell_type": "markdown",
   "metadata": {},
   "source": [
    "### Below cells is running seperate scripts inside this file. These scripts contains NSRDB, LTAFDB, and MITDB databases."
   ]
  },
  {
   "cell_type": "code",
   "execution_count": 10,
   "metadata": {},
   "outputs": [],
   "source": [
    "%run \"preprocess_mitdb.ipynb\"\n",
    "%run \"preprocess_nsrdb.ipynb\"\n",
    "%run \"preprocess_ltafdb.ipynb\""
   ]
  },
  {
   "cell_type": "code",
   "execution_count": 11,
   "metadata": {},
   "outputs": [],
   "source": [
    "y = np.asarray(y_list)\n",
    "X = np.asarray(all_features)\n",
    "\n",
    "y_A = np.asarray(y_list_A)\n",
    "X_A = np.asarray(all_features_A)\n",
    "\n",
    "y_nsr = np.asarray(y_list_nsr)\n",
    "X_nsr = np.asarray(all_features_nsr)\n",
    "\n",
    "y_long = np.asarray(y_list_long)\n",
    "X_long = np.asarray(all_features_long)"
   ]
  },
  {
   "cell_type": "markdown",
   "metadata": {},
   "source": [
    "## RESULTS for $N$=20"
   ]
  },
  {
   "cell_type": "markdown",
   "metadata": {},
   "source": [
    "### Evaluate on unseen test databases (NSRDB, LTAFDB, and MITDB)"
   ]
  },
  {
   "cell_type": "code",
   "execution_count": 12,
   "metadata": {
    "scrolled": false
   },
   "outputs": [],
   "source": [
    "print(\"-------------------------------(Testing scores below for Normal sinus Rhythm DB)-----------------------------------------------\")\n",
    "print(f\"SVM: {pipeline_svm.score(X_nsr, y_nsr)}\")\n",
    "print(f\"DT: {pipeline_dt.score(X_nsr, y_nsr)}\")\n",
    "print(f\"RF: {pipeline_rf.score(X_nsr, y_nsr)}\")\n",
    "print(f\"Stacking: {clf.score(X_nsr, y_nsr)}\")\n",
    "print(f\"Xgbost: {xgb_model.score(X_nsr, y_nsr)}\")\n",
    "print(f\"AdaBoost: {adaBoost_clf.score(X_nsr, y_nsr)}\")\n",
    "print(\"-------------------------------(Testing scores below for Arrhythmia DB)-----------------------------------------------\")\n",
    "print(f\"SVM: {pipeline_svm.score(X_A, y_A)}\")\n",
    "print(f\"DT: {pipeline_dt.score(X_A, y_A)}\")\n",
    "print(f\"RF: {pipeline_rf.score(X_A, y_A)}\")\n",
    "print(f\"Stacking: {clf.score(X_A, y_A)}\")\n",
    "print(f\"Xgbost: {xgb_model.score(X_A, y_A)}\")\n",
    "print(f\"AdaBoost: {adaBoost_clf.score(X_A, y_A)}\")\n",
    "print(\"-------------------------------(Testing scores below for Long term AF DB)---------------------------------------------\")\n",
    "print(f\"SVM: {pipeline_svm.score(X_long, y_long)}\")\n",
    "print(f\"DT: {pipeline_dt.score(X_long, y_long)}\")\n",
    "print(f\"RF: {pipeline_rf.score(X_long, y_long)}\")\n",
    "print(f\"Stacking: {clf.score(X_long, y_long)}\")\n",
    "print(f\"Xgbost: {xgb_model.score(X_long, y_long)}\")\n",
    "print(f\"AdaBoost: {adaBoost_clf.score(X_long, y_long)}\")"
   ]
  },
  {
   "cell_type": "markdown",
   "metadata": {},
   "source": [
    "### Classification reports"
   ]
  },
  {
   "cell_type": "code",
   "execution_count": 45,
   "metadata": {},
   "outputs": [],
   "source": [
    "y_pred_svm_A = pipeline_svm.predict(X_A)\n",
    "y_pred_dt_A = pipeline_dt.predict(X_A)\n",
    "y_pred_rf_A = pipeline_rf.predict(X_A)\n",
    "y_pred_stacking_A = clf.predict(X_A)\n",
    "y_pred_xgboost_A = xgb_model.predict(X_A)\n",
    "y_pred_adaboost_A = adaBoost_clf.predict(X_A)\n",
    "\n",
    "y_pred_svm_nsr = pipeline_svm.predict(X_nsr)\n",
    "y_pred_dt_nsr = pipeline_dt.predict(X_nsr)\n",
    "y_pred_rf_nsr = pipeline_rf.predict(X_nsr)\n",
    "y_pred_stacking_nsr = clf.predict(X_nsr)\n",
    "y_pred_xgboost_nsr = xgb_model.predict(X_nsr)\n",
    "y_pred_adaboost_nsr = adaBoost_clf.predict(X_nsr)\n",
    "\n",
    "y_pred_svm_long = pipeline_svm.predict(X_long)\n",
    "y_pred_dt_long = pipeline_dt.predict(X_long)\n",
    "y_pred_rf_long = pipeline_rf.predict(X_long)\n",
    "y_pred_stacking_long = clf.predict(X_long)\n",
    "y_pred_xgboost_long = xgb_model.predict(X_long)\n",
    "y_pred_adaboost_long = adaBoost_clf.predict(X_long)"
   ]
  },
  {
   "cell_type": "code",
   "execution_count": 13,
   "metadata": {
    "scrolled": true
   },
   "outputs": [],
   "source": [
    "target_names = ['class 0', 'class 1'] # class 0 = Normal rythm, class 1 = AFIB\n",
    "print(\"Arrhythmia DATA BELOW\")\n",
    "print(\"SVM below:\")\n",
    "print(classification_report(y_A, y_pred_svm_A, target_names=target_names))\n",
    "print(\"DT below:\")\n",
    "print(classification_report(y_A, y_pred_dt_A, target_names=target_names))\n",
    "print(\"RF below:\")\n",
    "print(classification_report(y_A, y_pred_rf_A, target_names=target_names))\n",
    "print(\"Stacking below:\")\n",
    "print(classification_report(y_A, y_pred_stacking_A, target_names=target_names))\n",
    "print(\"Xgboost below:\")\n",
    "print(classification_report(y_A, y_pred_xgboost_A, target_names=target_names))\n",
    "print(\"Adaboost below:\")\n",
    "print(classification_report(y_A, y_pred_adaboost_A, target_names=target_names))"
   ]
  },
  {
   "cell_type": "code",
   "execution_count": 14,
   "metadata": {
    "scrolled": true
   },
   "outputs": [],
   "source": [
    "target_names = ['class 0', 'class 1'] # class 0 = Normal rythm, class 1 = AFIB\n",
    "print(\"NSRDB DATA BELOW\")\n",
    "print(\"SVM below:\")\n",
    "print(classification_report(y_nsr, y_pred_svm_nsr, target_names=target_names))\n",
    "print(\"DT below:\")\n",
    "print(classification_report(y_nsr, y_pred_dt_nsr, target_names=target_names))\n",
    "print(\"RF below:\")\n",
    "print(classification_report(y_nsr, y_pred_rf_nsr, target_names=target_names))\n",
    "print(\"Stacking below:\")\n",
    "print(classification_report(y_nsr, y_pred_stacking_nsr, target_names=target_names))\n",
    "print(\"Xgboost below:\")\n",
    "print(classification_report(y_nsr, y_pred_xgboost_nsr, target_names=target_names))\n",
    "print(\"Adaboost below:\")\n",
    "print(classification_report(y_nsr, y_pred_adaboost_nsr, target_names=target_names))"
   ]
  },
  {
   "cell_type": "code",
   "execution_count": 15,
   "metadata": {
    "scrolled": true
   },
   "outputs": [],
   "source": [
    "target_names = ['class 0', 'class 1'] # class 0 = Normal rythm, class 1 = AFIB\n",
    "print(\"LONG TERM AF DATA BELOW\")\n",
    "print(\"SVM below:\")\n",
    "print(classification_report(y_long, y_pred_svm_long, target_names=target_names))\n",
    "print(\"DT below:\")\n",
    "print(classification_report(y_long, y_pred_dt_long, target_names=target_names))\n",
    "print(\"RF below:\")\n",
    "print(classification_report(y_long, y_pred_rf_long, target_names=target_names))\n",
    "print(\"Stacking below:\")\n",
    "print(classification_report(y_long, y_pred_stacking_long, target_names=target_names))\n",
    "print(\"Xgboost below:\")\n",
    "print(classification_report(y_long, y_pred_xgboost_long, target_names=target_names))\n",
    "print(\"Adaboost below:\")\n",
    "print(classification_report(y_long, y_pred_adaboost_long, target_names=target_names))"
   ]
  },
  {
   "cell_type": "markdown",
   "metadata": {},
   "source": [
    "### ROC curves for AdaBoost algorithm for $N$=20 (you may plot ROC curve for other classifiers and other segment lengths as well by running this script and change the \"seg_len\" above to 10 and 60)"
   ]
  },
  {
   "cell_type": "code",
   "execution_count": 53,
   "metadata": {},
   "outputs": [],
   "source": [
    "auc_svm_A = metrics.roc_auc_score(y_A, y_score_svm_A)\n",
    "auc_svm_long = metrics.roc_auc_score(y_long, y_score_svm_long)\n",
    "\n",
    "fpr_svm_A, tpr_svm_A, thresholds_svm_A = metrics.roc_curve(y_A, y_score_svm_A)\n",
    "fpr_svm_long, tpr_svm_long, thresholds_svm_long = metrics.roc_curve(y_long, y_score_svm_long)"
   ]
  },
  {
   "cell_type": "code",
   "execution_count": 59,
   "metadata": {
    "scrolled": false
   },
   "outputs": [
    {
     "data": {
      "image/png": "[encoded data removed]",
      "text/plain": [
       "<Figure size 576x432 with 1 Axes>"
      ]
     },
     "metadata": {
      "needs_background": "light"
     },
     "output_type": "display_data"
    }
   ],
   "source": [
    "# auc_ada = metrics.roc_auc_score(y_test, y_score_adaboost)\n",
    "auc_ada_A = metrics.roc_auc_score(y_A, y_score_adaboost_A)\n",
    "auc_ada_long = metrics.roc_auc_score(y_long, y_score_adaboost_long)\n",
    "\n",
    "# fpr_ada, tpr_ada, thresholds_ada = metrics.roc_curve(y_test, y_score_adaboost)\n",
    "fpr_ada_A, tpr_ada_A, thresholds_ada_A = metrics.roc_curve(y_A, y_score_adaboost_A)\n",
    "fpr_ada_long, tpr_ada_long, thresholds_ada_long = metrics.roc_curve(y_long, y_score_adaboost_long)\n",
    "\n",
    "\n",
    "plt.figure(figsize=(8,6))\n",
    "plt.plot([0, 1], [0, 1], 'k--', linewidth=3) # dashed line with black(k) color\n",
    "\n",
    "# plt.plot(fpr_ada, tpr_ada, label='AFDB (AUC = %0.4f)' % auc_ada, linewidth=3)\n",
    "plt.plot(fpr_ada_A, tpr_ada_A, label='MITDB (AUC = %0.4f)' % auc_ada_A, linewidth=3)\n",
    "plt.plot(fpr_ada_long, tpr_ada_long, label='LTAFDB (AUC = %0.4f)' % auc_ada_long, linewidth=3)\n",
    "\n",
    "plt.xlabel('False positive rate', fontsize=18)\n",
    "plt.ylabel('True positive rate', fontsize=18)\n",
    "plt.ylabel('True positive rate', fontsize=18)\n",
    "plt.xticks(fontsize=16)\n",
    "plt.yticks(fontsize=16)\n",
    "plt.title('ROC curve (Adaboost)', fontsize=18)\n",
    "plt.legend(loc='best', fontsize=18)\n",
    "plt.show()"
   ]
  },
  {
   "cell_type": "markdown",
   "metadata": {},
   "source": [
    "### Confusion matrix for AdaBoost algorithm for $N$=20 (you may plot confusion matrix for other classifiers and other segment lengths as well by running this script and change the \"seg_len\" above to 10 and 60)"
   ]
  },
  {
   "cell_type": "code",
   "execution_count": 75,
   "metadata": {},
   "outputs": [],
   "source": [
    "cm_svm_A = confusion_matrix(y_A, y_pred_svm_A)\n",
    "cm_dt_A = confusion_matrix(y_A, y_pred_dt_A)\n",
    "cm_rf_A = confusion_matrix(y_A, y_pred_rf_A)\n",
    "cm_stacking_A = confusion_matrix(y_A, y_pred_stacking_A)\n",
    "cm_xgboost_A = confusion_matrix(y_A, y_pred_xgboost_A)\n",
    "cm_adaboost_A = confusion_matrix(y_A, y_pred_adaboost_A)\n",
    "\n",
    "cm_svm_long = confusion_matrix(y_long, y_pred_svm_long)\n",
    "cm_dt_long = confusion_matrix(y_long, y_pred_dt_long)\n",
    "cm_rf_long = confusion_matrix(y_long, y_pred_rf_long)\n",
    "cm_stacking_long = confusion_matrix(y_long, y_pred_stacking_long)\n",
    "cm_xgboost_long = confusion_matrix(y_long, y_pred_xgboost_long)\n",
    "cm_adaboost_long = confusion_matrix(y_long, y_pred_adaboost_long)\n",
    "\n",
    "cm_svm_nsr = confusion_matrix(y_nsr, y_pred_svm_nsr)\n",
    "cm_dt_nsr = confusion_matrix(y_nsr, y_pred_dt_nsr)\n",
    "cm_rf_nsr = confusion_matrix(y_nsr, y_pred_rf_nsr)\n",
    "cm_stacking_nsr = confusion_matrix(y_nsr, y_pred_stacking_nsr)\n",
    "cm_xgboost_nsr = confusion_matrix(y_nsr, y_pred_xgboost_nsr)\n",
    "cm_adaboost_nsr = confusion_matrix(y_nsr, y_pred_adaboost_nsr)\n",
    "\n",
    "target_names = ['Normal', 'AFIB']"
   ]
  },
  {
   "cell_type": "code",
   "execution_count": 78,
   "metadata": {},
   "outputs": [],
   "source": [
    "def plot_confusion_matrix(cm,\n",
    "                          target_names,\n",
    "                          title='',\n",
    "                          cmap=None,\n",
    "                          normalize=True):\n",
    "    \"\"\"\n",
    "    given a sklearn confusion matrix (cm), make a nice plot\n",
    "\n",
    "    Arguments\n",
    "    ---------\n",
    "    cm:           confusion matrix from sklearn.metrics.confusion_matrix\n",
    "\n",
    "    target_names: given classification classes such as [0, 1, 2]\n",
    "                  the class names, for example: ['high', 'medium', 'low']\n",
    "\n",
    "    title:        the text to display at the top of the matrix\n",
    "\n",
    "    cmap:         the gradient of the values displayed from matplotlib.pyplot.cm\n",
    "                  see http://matplotlib.org/examples/color/colormaps_reference.html\n",
    "                  plt.get_cmap('jet') or plt.cm.Blues\n",
    "\n",
    "    normalize:    If False, plot the raw numbers\n",
    "                  If True, plot the proportions\n",
    "\n",
    "    Usage\n",
    "    -----\n",
    "    plot_confusion_matrix(cm           = cm,                  # confusion matrix created by\n",
    "                                                              # sklearn.metrics.confusion_matrix\n",
    "                          normalize    = True,                # show proportions\n",
    "                          target_names = y_labels_vals,       # list of names of the classes\n",
    "                          title        = best_estimator_name) # title of graph\n",
    "\n",
    "    Citiation\n",
    "    ---------\n",
    "    http://scikit-learn.org/stable/auto_examples/model_selection/plot_confusion_matrix.html\n",
    "    \"\"\"\n",
    "    import matplotlib.pyplot as plt\n",
    "    import numpy as np\n",
    "    import itertools\n",
    "\n",
    "    accuracy = np.trace(cm) / np.sum(cm).astype('float')\n",
    "    misclass = 1 - accuracy\n",
    "\n",
    "    if cmap is None:\n",
    "        cmap = plt.get_cmap('Blues')\n",
    "\n",
    "    plt.figure(figsize=(7, 5))\n",
    "    plt.imshow(cm, interpolation='nearest', cmap=cmap)\n",
    "    plt.title(title, fontsize = 20)\n",
    "    plt.colorbar()\n",
    "\n",
    "    if target_names is not None:\n",
    "        tick_marks = np.arange(len(target_names))\n",
    "        plt.xticks(tick_marks, target_names, rotation=45, fontsize=15)\n",
    "        plt.yticks(tick_marks, target_names, fontsize=15)\n",
    "\n",
    "    if normalize:\n",
    "        cm = (cm.astype('float') / cm.sum(axis=1)[:, np.newaxis]) * 100\n",
    "\n",
    "\n",
    "    thresh = cm.max() / 1.5 if normalize else cm.max() / 2\n",
    "    for i, j in itertools.product(range(cm.shape[0]), range(cm.shape[1])):\n",
    "        if normalize:\n",
    "            plt.text(j, i, \"{:0.2f}\".format(cm[i, j]),\n",
    "                     fontsize=20, #####\n",
    "                     horizontalalignment=\"center\",\n",
    "                     color=\"white\" if cm[i, j] > thresh else \"black\")\n",
    "        else:\n",
    "            plt.text(j, i, \"{:,}\".format(cm[i, j]),\n",
    "                     horizontalalignment=\"center\",\n",
    "                     color=\"white\" if cm[i, j] > thresh else \"black\")\n",
    "\n",
    "\n",
    "    plt.tight_layout()\n",
    "    plt.ylabel('True label', fontsize=20)\n",
    "    plt.xlabel('Predicted label'.format(accuracy, misclass), fontsize=20) #\\naccuracy={:0.2f}; misclass={:0.2f}\n",
    "    plt.show()"
   ]
  },
  {
   "cell_type": "markdown",
   "metadata": {},
   "source": [
    "#### COnfusion matrix for MITDB "
   ]
  },
  {
   "cell_type": "code",
   "execution_count": 66,
   "metadata": {
    "cell_style": "split"
   },
   "outputs": [
    {
     "data": {
      "image/png": "[encoded data removed]",
      "text/plain": [
       "<Figure size 504x360 with 2 Axes>"
      ]
     },
     "metadata": {
      "needs_background": "light"
     },
     "output_type": "display_data"
    }
   ],
   "source": [
    "plot_confusion_matrix(cm=cm_adaboost_A, target_names=target_names_A)"
   ]
  },
  {
   "cell_type": "markdown",
   "metadata": {},
   "source": [
    "#### COnfusion matrix for LTAFDB"
   ]
  },
  {
   "cell_type": "code",
   "execution_count": 72,
   "metadata": {
    "cell_style": "split"
   },
   "outputs": [
    {
     "data": {
      "image/png": "[encoded data removed]",
      "text/plain": [
       "<Figure size 504x360 with 2 Axes>"
      ]
     },
     "metadata": {
      "needs_background": "light"
     },
     "output_type": "display_data"
    }
   ],
   "source": [
    "plot_confusion_matrix(cm=cm_adaboost_long, target_names=target_names_long)"
   ]
  },
  {
   "cell_type": "code",
   "execution_count": null,
   "metadata": {},
   "outputs": [],
   "source": []
  }
 ],
 "metadata": {
  "kernelspec": {
   "display_name": "Python 3 (ipykernel)",
   "language": "python",
   "name": "python3"
  },
  "language_info": {
   "codemirror_mode": {
    "name": "ipython",
    "version": 3
   },
   "file_extension": ".py",
   "mimetype": "text/x-python",
   "name": "python",
   "nbconvert_exporter": "python",
   "pygments_lexer": "ipython3",
   "version": "3.9.7"
  }
 },
 "nbformat": 4,
 "nbformat_minor": 4
}
