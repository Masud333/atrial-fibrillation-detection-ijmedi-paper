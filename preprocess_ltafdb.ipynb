{
 "cells": [
  {
   "cell_type": "code",
   "execution_count": 67,
   "id": "826a95a7",
   "metadata": {},
   "outputs": [],
   "source": [
    "import pandas as pd\n",
    "import wfdb\n",
    "import os\n",
    "import glob\n",
    "import numpy as np\n",
    "import matplotlib.pyplot as plt"
   ]
  },
  {
   "cell_type": "markdown",
   "id": "785c31de",
   "metadata": {},
   "source": [
    "### Importing LTAFDB"
   ]
  },
  {
   "cell_type": "code",
   "execution_count": 68,
   "id": "69fb565b",
   "metadata": {},
   "outputs": [],
   "source": [
    "records_long = []\n",
    "properties_long = []\n",
    "annot_long = []\n",
    "AnnSymb_long = []\n",
    "AnnSamp_long = []\n",
    "AnnRhythm_long = []\n",
    "Rpeak_Samp_long = []\n",
    "Rpeak_Symb_long = []\n",
    "\n",
    "\n",
    "for f in glob.glob('/data/ltafdb/*.dat'): ##### change the path to own directory.       \n",
    "                                          ##### The rest should remin the same\n",
    "                                          \n",
    "    sig, fields = wfdb.rdsamp(f[:-4], channels=[1])  #### In this function, pass \n",
    "                                                     #### \"channels=[0]\" or \"channels=[1]\" to select channel 1 or 2.\n",
    "    ann = wfdb.rdann(f[:-4], 'atr')\n",
    "    QRS = wfdb.rdann(f[:-4], 'qrs')\n",
    "    Symb = pd.Series(ann.symbol)\n",
    "    Samp = pd.Series(ann.sample)\n",
    "    QRS_Symb = pd.Series(QRS.symbol)\n",
    "    QRS_Samp = pd.Series(QRS.sample)\n",
    "    Rhythm = pd.Series(ann.aux_note)\n",
    "    records_long.append(sig)\n",
    "    properties_long.append(fields)\n",
    "    annot_long.append(ann)\n",
    "    AnnSymb_long.append(Symb)\n",
    "    AnnSamp_long.append(Samp)\n",
    "    Rpeak_Symb_long.append(QRS_Symb)\n",
    "    Rpeak_Samp_long.append(QRS_Samp)\n",
    "    AnnRhythm_long.append(Rhythm)\n",
    "    \n",
    "AnnSymb_long = pd.Series(AnnSymb_long).values\n",
    "AnnSamp_long = pd.Series(AnnSamp_long).values"
   ]
  },
  {
   "cell_type": "code",
   "execution_count": 70,
   "id": "92a26bc8",
   "metadata": {},
   "outputs": [],
   "source": [
    "appended_AnnSamp = [item for i in range(len(AnnSamp_long)) for item in AnnSamp_long[i]]\n",
    "appended_AnnSymb = [item for i in range(len(AnnRhythm_long)) for item in AnnRhythm_long[i]]"
   ]
  },
  {
   "cell_type": "code",
   "execution_count": 2,
   "id": "1ed44d7f",
   "metadata": {},
   "outputs": [],
   "source": [
    "df = pd.DataFrame(\n",
    "    {'Rpeaks': appended_AnnSamp,\n",
    "     'Label': appended_AnnSymb\n",
    "    })"
   ]
  },
  {
   "cell_type": "markdown",
   "id": "24eef9fb",
   "metadata": {},
   "source": [
    "### Rescaling frequency sampling of 128 Hz for LTAFDB into 250 Hz (AFDB) and preprocess the dataset. "
   ]
  },
  {
   "cell_type": "code",
   "execution_count": 1,
   "id": "2ad5ef7c",
   "metadata": {},
   "outputs": [],
   "source": [
    "df['Rpeaks'] = df['Rpeaks']*2\n",
    "df['RRI'] = abs(df['Rpeaks'] - df['Rpeaks'].shift(-1))\n",
    "df = df.replace(r'^\\s*$', np.nan, regex=True) ### Replace empty places with NaN\n",
    "df = df.fillna(method='ffill') ### Perform \"forward fill\" - filling instances (NaN) in front row with preceeeding value\n",
    "\n",
    "arrhythmia_list = ['(N', '(AFIB']\n",
    "final_df = df[df['Label'].isin(arrhythmia_list)]\n",
    "final_df = final_df.drop(final_df[final_df.RRI > 1000].index)\n",
    "\n",
    "final_df['Label'] = final_df['Label'].map( \n",
    "                   {'(N':False , '(AFIB':True}) \n",
    "final_df['Label'] = final_df['Label'].astype(int)"
   ]
  },
  {
   "cell_type": "markdown",
   "id": "26ceccc8",
   "metadata": {},
   "source": [
    "### ECG records segmentation"
   ]
  },
  {
   "cell_type": "code",
   "execution_count": 82,
   "id": "8c1593a6",
   "metadata": {},
   "outputs": [],
   "source": [
    "def segmenting_record_long(seg_value_long):\n",
    "    rri2_long = final_df['RRI'] ### Storing the intervals between rpeaks\n",
    "    rri2_long = np.array(rri2_long, dtype=np.float64) ### Ensuring no overflow issues happens, when calculating in for loop later\n",
    "    \n",
    "    amount_long = -(len(rri2_long) % seg_value_long) # amount of data points to remove, for equal length segments with no residue points\n",
    "    print(f\"Amount to remove {amount_long}\")\n",
    "    \n",
    "    rec_longmount_long = rri2_long[:amount_long]\n",
    "    seg_shape_long = len(rec_longmount_long) // seg_value_long # amount of total segments (given the specified segment length) \n",
    "    print(f\"Shape 0: {seg_shape_long}\")\n",
    "    \n",
    "    segmented_rec_long = rec_longmount_long.reshape(seg_shape_long,seg_value_long)\n",
    "    return segmented_rec_long, amount_long, seg_shape_long"
   ]
  },
  {
   "cell_type": "markdown",
   "id": "56b35264",
   "metadata": {},
   "source": [
    "### Extracting and segmenting the input features"
   ]
  },
  {
   "cell_type": "code",
   "execution_count": 18,
   "id": "c04800fb",
   "metadata": {},
   "outputs": [],
   "source": [
    "### Loads in functions for Shannon Entropy, Mean absolute deviation calculations\n",
    "%run \"features_utils.ipynb\"\n",
    "from scipy.stats import median_abs_deviation"
   ]
  },
  {
   "cell_type": "code",
   "execution_count": 19,
   "id": "35714b74",
   "metadata": {},
   "outputs": [],
   "source": [
    "seg_len = 20 # Specify the segment length (0, 20, or 60 hearbeats)\n",
    "segmented_record_long, amount_long, seg_shape_long = segmenting_record_long(seg_len) \n",
    "\n",
    "all_features_long = []\n",
    "\n",
    "### Calculating features for every single segmented \"block\" inside the segmented_record_long variable\n",
    "for x in range(len(segmented_record_long)):\n",
    "    \n",
    "    #MEAN\n",
    "    ff1 = np.nanmean(segmented_record_long[x]) ### nanmean, nanstd computes values while ignoring nan-values\n",
    "    #STD\n",
    "    ff2 = np.nanstd(segmented_record_long[x])\n",
    "    #RMSSD\n",
    "    sum_ = 0\n",
    "    for y in range(len(segmented_record_long[x]) - 1): ### loops 19 times\n",
    "        sum_ += (segmented_record_long[x][y] - segmented_record_long[x][y+1])**2\n",
    "    sum_multiplied = 1/(len(segmented_record_long) - 1) * sum_\n",
    "    ff3 = np.sqrt(sum_multiplied)\n",
    "    #NORMALIZED RMSSD\n",
    "    ff4 = (ff3 / ff1)\n",
    "    #SHANNON ENTROPY\n",
    "    ff5 = entropy(segmented_record_long[x])\n",
    "    #MEAN ABSOLUTE DEVIATION\n",
    "    ff6 = mean_abs_deviation(segmented_record_long[x])\n",
    "    #MEDIAN ABSOLUTE DEVIATION\n",
    "    ff7 = median_abs_deviation(segmented_record_long[x])\n",
    "\n",
    "    my_features = pd.Series([np.around(ff1, 3), np.around(ff2, 3), np.around(ff3, 3), np.around(ff4, 3), np.around(ff5, 3), \n",
    "                             np.around(ff6, 3), np.around(ff7, 3)],\n",
    "                            index=['Mean','STD','RMSSD','Normalized RMSSD','Shannon Entropy',\n",
    "                                   'Mean absolute deviation','Median absolute deiviation'])\n",
    "    all_features_long.append(my_features)"
   ]
  },
  {
   "cell_type": "markdown",
   "id": "fba5947b",
   "metadata": {},
   "source": [
    "### Preprocess the rhythms' labels/targets"
   ]
  },
  {
   "cell_type": "code",
   "execution_count": 20,
   "id": "139053bf",
   "metadata": {},
   "outputs": [],
   "source": [
    "Label_long = final_df[\"Label\"]\n",
    "Label_long = np.array(Label_long, dtype=np.float64)\n",
    "\n",
    "y_amount_long = Label_long[:amount_long-1] \n",
    "y_shape_long = y_amount_long.reshape(seg_shape_long, seg_len) \n",
    "y_list_long = []\n",
    "\n",
    "### Calc if every 20 segment block is Normal synus rythm or AFIB\n",
    "for g in range(len(y_shape_long)):\n",
    "    #y_segment = y_shape\n",
    "    sum_segment_long = np.sum(y_shape_long[g])\n",
    "    if sum_segment_long >= int(seg_len/2): \n",
    "        sum_segment_long = 1\n",
    "    else: sum_segment_long = 0\n",
    "    y_list_long.append(sum_segment_long)\n",
    "\n",
    "y_list_long = np.array(y_list_long, dtype=np.float64)\n",
    "print(y_list_long.dtype)\n",
    "print(f\"Length of y_list: {len(y_list_long)}\")"
   ]
  }
 ],
 "metadata": {
  "kernelspec": {
   "display_name": "Python 3 (ipykernel)",
   "language": "python",
   "name": "python3"
  },
  "language_info": {
   "codemirror_mode": {
    "name": "ipython",
    "version": 3
   },
   "file_extension": ".py",
   "mimetype": "text/x-python",
   "name": "python",
   "nbconvert_exporter": "python",
   "pygments_lexer": "ipython3",
   "version": "3.9.7"
  }
 },
 "nbformat": 4,
 "nbformat_minor": 5
}
