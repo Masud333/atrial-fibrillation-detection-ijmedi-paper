{
 "cells": [
  {
   "cell_type": "code",
   "execution_count": 55,
   "id": "d192ddc1",
   "metadata": {},
   "outputs": [],
   "source": [
    "import wfdb\n",
    "import os\n",
    "import glob\n",
    "import pandas as pd\n",
    "import numpy as np\n",
    "import matplotlib.pyplot as plt"
   ]
  },
  {
   "cell_type": "markdown",
   "id": "f2db6819",
   "metadata": {},
   "source": [
    "### Importing MITDB"
   ]
  },
  {
   "cell_type": "code",
   "execution_count": 56,
   "id": "987ac65e",
   "metadata": {},
   "outputs": [],
   "source": [
    "records_A = []\n",
    "properties_A = []\n",
    "annot_A = []\n",
    "AnnSymb_A = []\n",
    "AnnSamp_A = []\n",
    "AnnRhythm_A = []\n",
    "Rpeak_Samp_A = []\n",
    "Rpeak_Symb_A = []\n",
    "\n",
    "\n",
    "for f in glob.glob('/data/mitdb/*.dat'):             #### change the path to own directory.       \n",
    "    sig, fields = wfdb.rdsamp(f[:-4], channels=[1])  #### In this function, pass \"channels=[0]\" or \"channels=[1]\" to select channel 1 or 2.\n",
    "    \n",
    "    ann = wfdb.rdann(f[:-4], 'atr')\n",
    "    QRS = wfdb.rdann(f[:-4], 'xws')\n",
    "    Symb = pd.Series(ann.symbol)\n",
    "    Samp = pd.Series(ann.sample)\n",
    "    \n",
    "    QRS_Symb = pd.Series(QRS.symbol)\n",
    "    QRS_Samp = pd.Series(QRS.sample)\n",
    "    Rhythm = pd.Series(ann.aux_note)\n",
    "    records_A.append(sig)\n",
    "    properties_A.append(fields)\n",
    "    annot_A.append(ann)\n",
    "    AnnSymb_A.append(Symb)\n",
    "    AnnSamp_A.append(Samp)\n",
    "    Rpeak_Symb_A.append(QRS_Symb)\n",
    "    Rpeak_Samp_A.append(QRS_Samp)\n",
    "    AnnRhythm_A.append(Rhythm)\n",
    "    \n",
    "AnnSymb_A = pd.Series(AnnSymb_A).values\n",
    "AnnSamp_A = pd.Series(AnnSamp_A).values"
   ]
  },
  {
   "cell_type": "code",
   "execution_count": 68,
   "id": "fc2d428c",
   "metadata": {},
   "outputs": [],
   "source": [
    "appended_AnnSamp = [item for i in range(len(AnnSamp_A)) for item in AnnSamp_A[i]]\n",
    "appended_AnnSymb = [item for i in range(len(AnnRhythm_A)) for item in AnnRhythm_A[i]]"
   ]
  },
  {
   "cell_type": "code",
   "execution_count": 1,
   "id": "063e0196",
   "metadata": {
    "scrolled": false
   },
   "outputs": [],
   "source": [
    "df = pd.DataFrame(\n",
    "    {'Rpeaks': appended_AnnSamp,\n",
    "     'Label': appended_AnnSymb\n",
    "    })"
   ]
  },
  {
   "cell_type": "markdown",
   "id": "bb07a428",
   "metadata": {},
   "source": [
    "### Rescaling frequency sampling of 360 Hz for MITDB into 250 Hz (AFDB) and preprocess the dataset."
   ]
  },
  {
   "cell_type": "code",
   "execution_count": 70,
   "id": "1b0deb7a",
   "metadata": {},
   "outputs": [],
   "source": [
    "df['Rpeaks'] = round(0.694 * df['Rpeaks'])\n",
    "df['RRI'] = abs(df['Rpeaks'] - df['Rpeaks'].shift(-1))\n",
    "df = df.replace(r'^\\s*$', np.nan, regex=True) ### Replace empty places with NaN\n",
    "df = df.fillna(method='ffill') ### Perform \"forward fill\" - filling instances (NaN) in front row with preceeeding value\n",
    "\n",
    "arrhythmia_list = ['(N', '(N\\x00', '(AFIB', '(AFIB\\x00']\n",
    "final_df = df[df['Label'].isin(arrhythmia_list)]\n",
    "\n",
    "final_df.loc[df['Label'].astype(str) == '(N\\x00', 'Label'] = '(N'\n",
    "final_df.loc[df['Label'].astype(str) == '(AFIB\\x00', 'Label'] = '(AFIB'\n",
    "final_df = final_df.drop(final_df[final_df.RRI > 1000].index)\n",
    "\n",
    "final_df['Label'] = final_df['Label'].map( \n",
    "                   {'(N':False , '(AFIB':True}) \n",
    "final_df['Label'] = final_df['Label'].astype(int)"
   ]
  },
  {
   "cell_type": "markdown",
   "id": "e6f563a8",
   "metadata": {},
   "source": [
    "### ECG records segmentation"
   ]
  },
  {
   "cell_type": "code",
   "execution_count": 85,
   "id": "c78c607f",
   "metadata": {},
   "outputs": [],
   "source": [
    "def segmenting_record_A(seg_value_A):\n",
    "    rri2_A = final_df['RRI'] ### Storing the intervals between rpeaks\n",
    "    rri2_A = np.array(rri2_A, dtype=np.float64) ### Ensuring no overflow issues happens, when calculating in for loop later\n",
    "    \n",
    "    amount_A = -(len(rri2_A) % seg_value_A) # amount of data points to remove, for equal length segments with no residue points\n",
    "    print(f\"Amount to remove {amount_A}\")\n",
    "    \n",
    "    rec_amount_A = rri2_A[:amount_A]\n",
    "    seg_shape_A = len(rec_amount_A) // seg_value_A # amount of total segments (given the specified segment length) \n",
    "    print(f\"Shape 0: {seg_shape_A}\")\n",
    "    \n",
    "    segmented_rec_A = rec_amount_A.reshape(seg_shape_A,seg_value_A)\n",
    "    return segmented_rec_A, amount_A, seg_shape_A"
   ]
  },
  {
   "cell_type": "markdown",
   "id": "7395764f",
   "metadata": {},
   "source": [
    "### Extracting and segmenting the input features"
   ]
  },
  {
   "cell_type": "code",
   "execution_count": 88,
   "id": "34bee21c",
   "metadata": {},
   "outputs": [],
   "source": [
    "### Loads in functions for Shannon Entropy, Mean absolute deviation calculations\n",
    "%run \"features_utils.ipynb\"\n",
    "from scipy.stats import median_abs_deviation"
   ]
  },
  {
   "cell_type": "code",
   "execution_count": 35,
   "id": "c9707257",
   "metadata": {},
   "outputs": [],
   "source": [
    "seg_len = 20 # Specify the segment length (0, 20, or 60 hearbeats)\n",
    "segmented_record_A, amount_A, seg_shape_A = segmenting_record_A(seg_len) # Specify the segment length\n",
    "\n",
    "all_features_A = []\n",
    "\n",
    "### Calculating features for every single segmented \"block\" inside the segmented_record_A variable\n",
    "for x in range(len(segmented_record_A)):\n",
    "    \n",
    "    #MEAN\n",
    "    ff1 = np.nanmean(segmented_record_A[x]) ### nanmean, nanstd computes values while ignoring nan-values\n",
    "    #STD\n",
    "    ff2 = np.nanstd(segmented_record_A[x])\n",
    "    #RMSSD\n",
    "    sum_ = 0\n",
    "    for y in range(len(segmented_record_A[x]) - 1): ### loops 19 times\n",
    "        sum_ += (segmented_record_A[x][y] - segmented_record_A[x][y+1])**2\n",
    "    sum_multiplied = 1/(len(segmented_record_A) - 1) * sum_\n",
    "    ff3 = np.sqrt(sum_multiplied)\n",
    "    #NORMALIZED RMSSD\n",
    "    ff4 = (ff3 / ff1)\n",
    "    #SHANNON ENTROPY\n",
    "    ff5 = entropy(segmented_record_A[x])\n",
    "    #MEAN ABSOLUTE DEVIATION\n",
    "    ff6 = mean_abs_deviation(segmented_record_A[x])\n",
    "    #MEDIAN ABSOLUTE DEVIATION\n",
    "    ff7 = median_abs_deviation(segmented_record_A[x])\n",
    "\n",
    "    my_features = pd.Series([np.around(ff1, 3), np.around(ff2 ,3), np.around(ff3, 3), np.around(ff4, 3), np.around(ff5, 3), \n",
    "                             np.around(ff6, 3), np.around(ff7, 3)],\n",
    "                            index=['Mean','STD','RMSSD','Normalized RMSSD','Shannon Entropy',\n",
    "                                   'Mean absolute deviation','Median absolute deiviation'])\n",
    "    all_features_A.append(my_features)"
   ]
  },
  {
   "cell_type": "markdown",
   "id": "210dbc8d",
   "metadata": {},
   "source": [
    "### Preprocess the rhythms' labels/targets"
   ]
  },
  {
   "cell_type": "code",
   "execution_count": 37,
   "id": "b7253792",
   "metadata": {},
   "outputs": [
    {
     "name": "stdout",
     "output_type": "stream",
     "text": [
      "float64\n",
      "Length of y_list: 9104\n"
     ]
    }
   ],
   "source": [
    "Label_A = final_df[\"Label\"]\n",
    "Label_A = np.array(Label_A, dtype=np.float64)\n",
    "\n",
    "y_amount_A = Label_A[:amount_A-1] # \n",
    "y_shape_A = y_amount_A.reshape(seg_shape_A, seg_len) # \n",
    "y_list_A = []\n",
    "\n",
    "### Calc if every 20 segment block is Normal synus rythm or AFIB\n",
    "for g in range(len(y_shape_A)):\n",
    "    #y_segment = y_shape\n",
    "    sum_segment_A = np.sum(y_shape_A[g])\n",
    "    if sum_segment_A >= int(seg_len/2): # \n",
    "        sum_segment_A = 1\n",
    "    else: sum_segment_A = 0\n",
    "    y_list_A.append(sum_segment_A)\n",
    "\n",
    "y_list_A = np.array(y_list_A, dtype=np.float64)\n",
    "print(y_list_A.dtype)\n",
    "print(f\"Length of y_list: {len(y_list_A)}\")"
   ]
  }
 ],
 "metadata": {
  "kernelspec": {
   "display_name": "Python 3 (ipykernel)",
   "language": "python",
   "name": "python3"
  },
  "language_info": {
   "codemirror_mode": {
    "name": "ipython",
    "version": 3
   },
   "file_extension": ".py",
   "mimetype": "text/x-python",
   "name": "python",
   "nbconvert_exporter": "python",
   "pygments_lexer": "ipython3",
   "version": "3.9.7"
  }
 },
 "nbformat": 4,
 "nbformat_minor": 5
}
